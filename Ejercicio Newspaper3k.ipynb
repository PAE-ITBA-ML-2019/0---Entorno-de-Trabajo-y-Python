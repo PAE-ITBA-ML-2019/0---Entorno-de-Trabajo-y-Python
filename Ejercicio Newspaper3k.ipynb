{
 "cells": [
  {
   "cell_type": "markdown",
   "metadata": {},
   "source": [
    "# Ejercicio Newspaper3k\n",
    "\n",
    "Utilizando el paquete newspaper3k se pide escribir una librería en un archivo ej1.py (un archivo de python llamado ej1) que implemente una función que reciba una URL de un artículo periodístico y devuelva un diccionario que contenga la cantidad de veces que apareció cada palabra en el texto.\n",
    "\n",
    "La función debe llamarse body, por lo que la librería podría ser testeada con el siguiente código:\n",
    "\n",
    "import ej1\n",
    "\n",
    "url=\"https://www.nytimes.com/2016/08/07/education/edlife/kenneth-goldsmith-on-wasting-time-on-the-internet.html\"\n",
    "\n",
    "x=ej1.body(url)\n",
    "\n",
    "for key,value in x.items():\n",
    "\n",
    "    print(\"La cantidad de veces que aparece la palabra {} es {}\".format(key,value))\n",
    "\n",
    "Todos los caracteres deberán ser pasados a minúscula. Cualquier caracter que no sea una letra se considera separador de palabras. No se deberán contabilizar los string vacíos."
   ]
  },
  {
   "cell_type": "code",
   "execution_count": null,
   "metadata": {},
   "outputs": [],
   "source": []
  }
 ],
 "metadata": {
  "kernelspec": {
   "display_name": "Python 3",
   "language": "python",
   "name": "python3"
  },
  "language_info": {
   "codemirror_mode": {
    "name": "ipython",
    "version": 3
   },
   "file_extension": ".py",
   "mimetype": "text/x-python",
   "name": "python",
   "nbconvert_exporter": "python",
   "pygments_lexer": "ipython3",
   "version": "3.7.3"
  }
 },
 "nbformat": 4,
 "nbformat_minor": 2
}
